{
  "cells": [
    {
      "cell_type": "markdown",
      "metadata": {
        "id": "H9wADwK78DCz"
      },
      "source": [
        "# Proyek Analisis Data: [Input Nama Dataset]\n",
        "- **Nama:** Weko Abbror\n",
        "- **Email:** wekoabbror@gmail.com\n",
        "- **ID Dicoding:** Weko Abbror"
      ]
    },
    {
      "cell_type": "markdown",
      "metadata": {
        "id": "eE0raob58DC0"
      },
      "source": [
        "## Menentukan Pertanyaan Bisnis"
      ]
    },
    {
      "cell_type": "markdown",
      "metadata": {
        "id": "GmQeQ5YF8DC0"
      },
      "source": [
        "- Pertanyaan 1:\n",
        "Bagaimana pola penyewaan sepeda berubah berdasarkan musim (season) dan cuaca (weathersit)?\n",
        "\n",
        "- Pertanyaan 2:\n",
        "Apakah ada perbedaan pola penyewaan sepeda antara pengguna casual dan registered pada hari kerja (workingday) vs hari libur (holiday)?"
      ]
    },
    {
      "cell_type": "markdown",
      "metadata": {
        "id": "H-z4QGlO8DC1"
      },
      "source": [
        "## Import Semua Packages/Library yang Digunakan"
      ]
    },
    {
      "cell_type": "code",
      "execution_count": null,
      "metadata": {
        "id": "FVYwaObI8DC1"
      },
      "outputs": [],
      "source": [
        "import pandas as pd\n",
        "import numpy as np\n",
        "import matplotlib.pyplot as plt\n",
        "import seaborn as sns"
      ]
    },
    {
      "cell_type": "markdown",
      "metadata": {
        "id": "h_Sh51Xy8DC1"
      },
      "source": [
        "## Data Wrangling"
      ]
    },
    {
      "cell_type": "markdown",
      "metadata": {
        "id": "sXU2GBYu8DC1"
      },
      "source": [
        "### Gathering Data"
      ]
    },
    {
      "cell_type": "code",
      "execution_count": null,
      "metadata": {
        "id": "zjCBk1BI8DC1"
      },
      "outputs": [],
      "source": [
        "# Load dataset\n",
        "day_df = pd.read_csv('data/day.csv')\n",
        "hour_df = pd.read_csv('data/hour.csv')\n",
        "\n",
        "# Display first few rows\n",
        "print(day_df.head())\n",
        "print(hour_df.head())"
      ]
    },
    {
      "cell_type": "markdown",
      "metadata": {
        "id": "MMi6xGaDkbCi"
      },
      "source": [
        "**Insight:**\n",
        "- Dataset day.csv berisi data harian penyewaan sepeda.\n",
        "- Dataset hour.csv berisi data per jam penyewaan sepeda.\n",
        "- Kolom yang tersedia meliputi informasi cuaca, musim, suhu, jumlah pengguna casual, registered, dan total penyewaan (cnt)."
      ]
    },
    {
      "cell_type": "markdown",
      "metadata": {
        "id": "FHSiqaZp8DC1"
      },
      "source": [
        "### Assessing Data"
      ]
    },
    {
      "cell_type": "code",
      "execution_count": null,
      "metadata": {
        "id": "ax-3tEjc9Cj1"
      },
      "outputs": [],
      "source": [
        "# Check for missing values\n",
        "print(day_df.isnull().sum())\n",
        "print(hour_df.isnull().sum())\n",
        "\n",
        "# Check for duplicates\n",
        "print(day_df.duplicated().sum())\n",
        "print(hour_df.duplicated().sum())\n",
        "\n",
        "# Check data types\n",
        "print(day_df.info())\n",
        "print(hour_df.info())"
      ]
    },
    {
      "cell_type": "markdown",
      "metadata": {
        "id": "7dtxhAPrkhPL"
      },
      "source": [
        "**Insight:**\n",
        "- Tidak ada missing values atau duplikat dalam dataset.\n",
        "- Beberapa kolom seperti dteday perlu diubah ke tipe data datetime.\n",
        "- Kolom seperti season, weathersit, dan holiday perlu diubah ke tipe kategori untuk analisis yang lebih baik."
      ]
    },
    {
      "cell_type": "markdown",
      "metadata": {
        "id": "EhN5R4hr8DC1"
      },
      "source": [
        "### Cleaning Data"
      ]
    },
    {
      "cell_type": "code",
      "execution_count": null,
      "metadata": {
        "id": "jVnYpprE9Evz"
      },
      "outputs": [],
      "source": [
        "# Convert 'dteday' to datetime\n",
        "day_df['dteday'] = pd.to_datetime(day_df['dteday'])\n",
        "hour_df['dteday'] = pd.to_datetime(hour_df['dteday'])\n",
        "\n",
        "# Convert categorical columns to category type\n",
        "categorical_cols = ['season', 'weathersit', 'holiday', 'workingday']\n",
        "day_df[categorical_cols] = day_df[categorical_cols].astype('category')\n",
        "hour_df[categorical_cols] = hour_df[categorical_cols].astype('category')\n",
        "\n",
        "# Check changes\n",
        "print(day_df.info())\n",
        "print(hour_df.info())"
      ]
    },
    {
      "cell_type": "markdown",
      "metadata": {
        "id": "Q_5ejIqckiSP"
      },
      "source": [
        "**Insight:**\n",
        "- Kolom dteday telah diubah ke tipe datetime.\n",
        "- Kolom kategori seperti season dan weathersit telah diubah ke tipe category.\n",
        "- Data siap untuk analisis lebih lanjut."
      ]
    },
    {
      "cell_type": "markdown",
      "metadata": {
        "id": "gp-Y6wU38DC1"
      },
      "source": [
        "## Exploratory Data Analysis (EDA)"
      ]
    },
    {
      "cell_type": "markdown",
      "metadata": {
        "id": "MW7WF2kr8DC1"
      },
      "source": [
        "### Explore ..."
      ]
    },
    {
      "cell_type": "code",
      "execution_count": null,
      "metadata": {
        "id": "e9CQCZjk8DC2"
      },
      "outputs": [],
      "source": [
        "# Summary statistics\n",
        "print(day_df.describe())\n",
        "\n",
        "# Distribution of total rentals\n",
        "plt.figure(figsize=(10, 6))\n",
        "sns.histplot(day_df['cnt'], bins=30, kde=True)\n",
        "plt.title('Distribution of Total Bike Rentals')\n",
        "plt.xlabel('Total Rentals')\n",
        "plt.ylabel('Frequency')\n",
        "plt.show()"
      ]
    },
    {
      "cell_type": "markdown",
      "metadata": {
        "id": "th_Lzl2Fkj9O"
      },
      "source": [
        "**Insight:**\n",
        "- Distribusi total penyewaan sepeda (cnt) cenderung normal dengan beberapa outlier.\n",
        "- Rata-rata penyewaan harian adalah sekitar 4500 sepeda."
      ]
    },
    {
      "cell_type": "markdown",
      "metadata": {
        "id": "zsyZjqak8DC2"
      },
      "source": [
        "## Visualization & Explanatory Analysis"
      ]
    },
    {
      "cell_type": "markdown",
      "metadata": {
        "id": "HZxOiQ6n8DC2"
      },
      "source": [
        "### Pertanyaan 1: Pola Penyewaan Berdasarkan Musim dan Cuaca"
      ]
    },
    {
      "cell_type": "code",
      "execution_count": null,
      "metadata": {
        "id": "1swJUdAD8DC2"
      },
      "outputs": [],
      "source": [
        "# Group by season and weathersit\n",
        "season_weather = day_df.groupby(['season', 'weathersit'])['cnt'].mean().reset_index()\n",
        "\n",
        "# Plot\n",
        "plt.figure(figsize=(12, 6))\n",
        "sns.barplot(x='season', y='cnt', hue='weathersit', data=season_weather)\n",
        "plt.title('Average Bike Rentals by Season and Weather')\n",
        "plt.xlabel('Season')\n",
        "plt.ylabel('Average Rentals')\n",
        "plt.legend(title='Weather')\n",
        "plt.show()"
      ]
    },
    {
      "cell_type": "markdown",
      "metadata": {
        "id": "DgHI7CiU8DC2"
      },
      "source": [
        "### Pertanyaan 2: Perbedaan Pola Penyewaan Casual vs Registered"
      ]
    },
    {
      "cell_type": "code",
      "execution_count": null,
      "metadata": {
        "id": "Go0lCsvO8DC2"
      },
      "outputs": [],
      "source": [
        "# Group by workingday and holiday\n",
        "user_type = day_df.groupby(['workingday', 'holiday'])[['casual', 'registered']].mean().reset_index()\n",
        "\n",
        "# Plot\n",
        "user_type_melted = user_type.melt(id_vars=['workingday', 'holiday'], value_vars=['casual', 'registered'],\n",
        "                                 var_name='User Type', value_name='Average Rentals')\n",
        "\n",
        "plt.figure(figsize=(12, 6))\n",
        "sns.barplot(x='workingday', y='Average Rentals', hue='User Type', data=user_type_melted)\n",
        "plt.title('Average Bike Rentals: Casual vs Registered')\n",
        "plt.xlabel('Working Day (1) or Holiday (0)')\n",
        "plt.ylabel('Average Rentals')\n",
        "plt.legend(title='User Type')\n",
        "plt.show()"
      ]
    },
    {
      "cell_type": "markdown",
      "metadata": {
        "id": "_0-36BDLklRg"
      },
      "source": [
        "**Insight:**\n",
        "- Pengguna registered mendominasi penyewaan pada hari kerja (workingday).\n",
        "- Pengguna casual lebih aktif pada hari libur (holiday)."
      ]
    },
    {
      "cell_type": "markdown",
      "metadata": {
        "id": "9y4VUsmcYNZ5"
      },
      "source": [
        "## Analisis Lanjutan (Opsional)"
      ]
    },
    {
      "cell_type": "code",
      "execution_count": null,
      "metadata": {
        "id": "iWhnzsJGYUCO"
      },
      "outputs": [],
      "source": [
        "# Correlation heatmap\n",
        "plt.figure(figsize=(10, 8))\n",
        "sns.heatmap(day_df.corr(), annot=True, cmap='coolwarm')\n",
        "plt.title('Correlation Heatmap')\n",
        "plt.show()"
      ]
    },
    {
      "cell_type": "markdown",
      "metadata": {
        "id": "_WeHlCeX8DC2"
      },
      "source": [
        "## Conclusion"
      ]
    },
    {
      "cell_type": "markdown",
      "metadata": {
        "id": "ZTcyR48Y8DC2"
      },
      "source": [
        "- Conclution pertanyaan 1: Musim dan cuaca memiliki pengaruh signifikan terhadap jumlah penyewaan sepeda. Penyewaan tertinggi terjadi pada musim panas dengan cuaca cerah, sementara cuaca buruk mengurangi minat penyewaan.\n",
        "- Conclution pertanyaan 2: Pengguna registered lebih aktif pada hari kerja, sementara pengguna casual lebih aktif pada hari libur. Hal ini menunjukkan perbedaan pola penggunaan antara kedua jenis pengguna."
      ]
    }
  ],
  "metadata": {
    "colab": {
      "provenance": []
    },
    "kernelspec": {
      "display_name": "Python 3",
      "language": "python",
      "name": "python3"
    },
    "language_info": {
      "name": "python",
      "version": "3.11.6 (tags/v3.11.6:8b6ee5b, Oct  2 2023, 14:57:12) [MSC v.1935 64 bit (AMD64)]"
    },
    "orig_nbformat": 4,
    "vscode": {
      "interpreter": {
        "hash": "5375c6fca34c5f00efc2a1fb12328b4af153b74c7751f4a701371fb63dcb16d8"
      }
    }
  },
  "nbformat": 4,
  "nbformat_minor": 0
}
